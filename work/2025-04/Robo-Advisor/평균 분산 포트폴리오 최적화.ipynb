{
  "nbformat": 4,
  "nbformat_minor": 0,
  "metadata": {
    "colab": {
      "provenance": [],
      "authorship_tag": "ABX9TyPtAJaoCauQPzUAJtq1kVBw",
      "include_colab_link": true
    },
    "kernelspec": {
      "name": "python3",
      "display_name": "Python 3"
    },
    "language_info": {
      "name": "python"
    }
  },
  "cells": [
    {
      "cell_type": "markdown",
      "metadata": {
        "id": "view-in-github",
        "colab_type": "text"
      },
      "source": [
        "<a href=\"https://colab.research.google.com/github/haedal-uni/analysis/blob/main/work/2025-04/Robo-Advisor/%ED%8F%89%EA%B7%A0%20%EB%B6%84%EC%82%B0%20%ED%8F%AC%ED%8A%B8%ED%8F%B4%EB%A6%AC%EC%98%A4%20%EC%B5%9C%EC%A0%81%ED%99%94.ipynb\" target=\"_parent\"><img src=\"https://colab.research.google.com/assets/colab-badge.svg\" alt=\"Open In Colab\"/></a>"
      ]
    },
    {
      "cell_type": "markdown",
      "source": [
        "\n",
        "해당 [링크](https://github.com/ald0met/RoboAdvisor_with_Python/blob/main/Chapter_3.ipynb)를 참고하여 코드 작성\n",
        "\n",
        "평균-분산 최적화(Mean-Variance Optimization) 진행\n",
        "\n",
        "PyPortfolioOpt 라이브러리를 사용하여 로보 어드바이저 기능 중 하나인 평균-분산 포트폴리오 최적화를 구현\n",
        "\n",
        "단일 종목 데이터를 기반으로 수익률 계산 후 평균-분산 최적화 기법을 통해 비중(weight) 을 도출"
      ],
      "metadata": {
        "id": "jKWoV88AfLX1"
      }
    },
    {
      "cell_type": "code",
      "source": [
        "pip install PyPortfolioOpt"
      ],
      "metadata": {
        "colab": {
          "base_uri": "https://localhost:8080/"
        },
        "id": "hKP4kakQfBM1",
        "outputId": "a586b9d4-bd8f-4992-dadf-10683fbf99fe"
      },
      "execution_count": 4,
      "outputs": [
        {
          "output_type": "stream",
          "name": "stdout",
          "text": [
            "Requirement already satisfied: PyPortfolioOpt in /usr/local/lib/python3.11/dist-packages (1.5.6)\n",
            "Requirement already satisfied: cvxpy>=1.1.19 in /usr/local/lib/python3.11/dist-packages (from PyPortfolioOpt) (1.6.4)\n",
            "Requirement already satisfied: ecos<3.0.0,>=2.0.14 in /usr/local/lib/python3.11/dist-packages (from PyPortfolioOpt) (2.0.14)\n",
            "Requirement already satisfied: numpy>=1.26.0 in /usr/local/lib/python3.11/dist-packages (from PyPortfolioOpt) (2.0.2)\n",
            "Requirement already satisfied: pandas>=0.19 in /usr/local/lib/python3.11/dist-packages (from PyPortfolioOpt) (2.2.2)\n",
            "Requirement already satisfied: plotly<6.0.0,>=5.0.0 in /usr/local/lib/python3.11/dist-packages (from PyPortfolioOpt) (5.24.1)\n",
            "Requirement already satisfied: scipy>=1.3 in /usr/local/lib/python3.11/dist-packages (from PyPortfolioOpt) (1.14.1)\n",
            "Requirement already satisfied: osqp>=0.6.2 in /usr/local/lib/python3.11/dist-packages (from cvxpy>=1.1.19->PyPortfolioOpt) (1.0.3)\n",
            "Requirement already satisfied: clarabel>=0.5.0 in /usr/local/lib/python3.11/dist-packages (from cvxpy>=1.1.19->PyPortfolioOpt) (0.10.0)\n",
            "Requirement already satisfied: scs>=3.2.4.post1 in /usr/local/lib/python3.11/dist-packages (from cvxpy>=1.1.19->PyPortfolioOpt) (3.2.7.post2)\n",
            "Requirement already satisfied: python-dateutil>=2.8.2 in /usr/local/lib/python3.11/dist-packages (from pandas>=0.19->PyPortfolioOpt) (2.8.2)\n",
            "Requirement already satisfied: pytz>=2020.1 in /usr/local/lib/python3.11/dist-packages (from pandas>=0.19->PyPortfolioOpt) (2025.2)\n",
            "Requirement already satisfied: tzdata>=2022.7 in /usr/local/lib/python3.11/dist-packages (from pandas>=0.19->PyPortfolioOpt) (2025.2)\n",
            "Requirement already satisfied: tenacity>=6.2.0 in /usr/local/lib/python3.11/dist-packages (from plotly<6.0.0,>=5.0.0->PyPortfolioOpt) (9.1.2)\n",
            "Requirement already satisfied: packaging in /usr/local/lib/python3.11/dist-packages (from plotly<6.0.0,>=5.0.0->PyPortfolioOpt) (24.2)\n",
            "Requirement already satisfied: jinja2 in /usr/local/lib/python3.11/dist-packages (from osqp>=0.6.2->cvxpy>=1.1.19->PyPortfolioOpt) (3.1.6)\n",
            "Requirement already satisfied: setuptools in /usr/local/lib/python3.11/dist-packages (from osqp>=0.6.2->cvxpy>=1.1.19->PyPortfolioOpt) (75.2.0)\n",
            "Requirement already satisfied: joblib in /usr/local/lib/python3.11/dist-packages (from osqp>=0.6.2->cvxpy>=1.1.19->PyPortfolioOpt) (1.4.2)\n",
            "Requirement already satisfied: six>=1.5 in /usr/local/lib/python3.11/dist-packages (from python-dateutil>=2.8.2->pandas>=0.19->PyPortfolioOpt) (1.17.0)\n",
            "Requirement already satisfied: MarkupSafe>=2.0 in /usr/local/lib/python3.11/dist-packages (from jinja2->osqp>=0.6.2->cvxpy>=1.1.19->PyPortfolioOpt) (3.0.2)\n"
          ]
        }
      ]
    },
    {
      "cell_type": "code",
      "source": [
        "import pandas as pd\n",
        "from typing import Optional, Dict\n",
        "from pypfopt import EfficientFrontier\n",
        "\n",
        "### 데이터 불러오기 함수\n",
        "def load_and_clean_data(file_path: str, ticker: str) -> pd.DataFrame:\n",
        "    df = pd.read_csv(file_path, parse_dates=['날짜'], index_col=\"날짜\", thousands=\",\")\n",
        "    df['거래량'] = df['거래량'].apply(lambda x: float(x.replace('K', '')) * 1000 if isinstance(x, str) and 'K' in x else float(x))\n",
        "    df['변동 %'] = df['변동 %'].apply(lambda x: float(x.replace('%', '')) / 100 if isinstance(x, str) else x)\n",
        "    df = df.sort_index().dropna()\n",
        "    df = df[['종가']]  # 종가만 남기기\n",
        "    df.columns = [ticker]  # 종가 → 티커명\n",
        "    return df\n",
        "\n",
        "### 수익률 계산 함수\n",
        "def calculate_return(price_data: pd.DataFrame) -> pd.DataFrame:\n",
        "    return price_data.pct_change(1) * 100  # 일간 수익률\n",
        "\n",
        "### 평균-분산 최적화 함수\n",
        "def get_mean_variance_weights(return_data: pd.DataFrame, risk_aversion: int) -> Optional[Dict]:\n",
        "    expected_return = return_data.mean(skipna=False).to_list()\n",
        "    cov = return_data.cov(min_periods=len(return_data))\n",
        "\n",
        "    if cov.isnull().values.any() or cov.empty:\n",
        "        return None\n",
        "\n",
        "    ef = EfficientFrontier(\n",
        "        expected_returns=expected_return,\n",
        "        cov_matrix=cov,\n",
        "        solver=\"OSQP\"\n",
        "    )\n",
        "    ef.max_quadratic_utility(risk_aversion=risk_aversion)\n",
        "    weights = dict(ef.clean_weights(rounding=None))\n",
        "    return weights\n",
        "\n",
        "### 데이터 결합 및 실행\n",
        "# 각각 데이터 로딩\n",
        "steel = load_and_clean_data('미국 철강 코일 선물 과거 데이터.csv', '철강')\n",
        "copper = load_and_clean_data('구리 선물 과거 데이터.csv', '구리')\n",
        "\n",
        "# 날짜 기준 병합 (inner join으로 공통 날짜만)\n",
        "merged_prices = pd.concat([steel, copper], axis=1, join=\"inner\")\n",
        "\n",
        "# 수익률 계산\n",
        "returns = calculate_return(merged_prices).dropna()\n",
        "\n",
        "# 평균-분산 포트폴리오 최적화\n",
        "weights = get_mean_variance_weights(returns, risk_aversion=1)\n",
        "\n",
        "print(\"최적 포트폴리오 비중:\")\n",
        "print(weights)\n"
      ],
      "metadata": {
        "colab": {
          "base_uri": "https://localhost:8080/"
        },
        "id": "uKJ0Sh2Zeya-",
        "outputId": "6f6dedb3-3368-42b4-da2c-3fa382393df3"
      },
      "execution_count": 5,
      "outputs": [
        {
          "output_type": "stream",
          "name": "stdout",
          "text": [
            "최적 포트폴리오 비중:\n",
            "{'철강': 0.3067782708400018, '구리': 0.6932217291599982}\n"
          ]
        }
      ]
    },
    {
      "cell_type": "code",
      "source": [],
      "metadata": {
        "id": "z1BgFkB-e8Ge"
      },
      "execution_count": 5,
      "outputs": []
    },
    {
      "cell_type": "markdown",
      "source": [
        "|자산|투자 비중 (%)|\n",
        "|------|---|\n",
        "|철강|약 30.68%|\n",
        "|구리|약 69.32%|\n",
        "\n",
        "철강과 구리 두 자산에 투자할 때 수익률을 최대화하면서 위험(변동성)을 최소화하는 최적의 자산 배분\n",
        "\n",
        "구리에 더 많이 투자하고 철강은 조금 투자하라는 뜻\n",
        "\n",
        "<br><br>\n",
        "\n",
        "총 자금이 1,000만 원이라면?\n",
        "\n",
        "철강에 약 3,068,000원\n",
        "\n",
        "구리에 약 6,932,000원 투자\n"
      ],
      "metadata": {
        "id": "LqCkUWccfWCl"
      }
    },
    {
      "cell_type": "code",
      "source": [],
      "metadata": {
        "id": "g61_oydJfWmF"
      },
      "execution_count": null,
      "outputs": []
    }
  ]
}