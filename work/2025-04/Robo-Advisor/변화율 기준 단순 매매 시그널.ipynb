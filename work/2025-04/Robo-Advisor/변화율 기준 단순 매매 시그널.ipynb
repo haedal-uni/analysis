{
  "nbformat": 4,
  "nbformat_minor": 0,
  "metadata": {
    "colab": {
      "provenance": [],
      "authorship_tag": "ABX9TyMrKE/gjz7E6B5TO30deBRK",
      "include_colab_link": true
    },
    "kernelspec": {
      "name": "python3",
      "display_name": "Python 3"
    },
    "language_info": {
      "name": "python"
    }
  },
  "cells": [
    {
      "cell_type": "markdown",
      "metadata": {
        "id": "view-in-github",
        "colab_type": "text"
      },
      "source": [
        "<a href=\"https://colab.research.google.com/github/haedal-uni/analysis/blob/main/work/2025-04/%EB%A1%9C%EB%B3%B4%EC%96%B4%EB%93%9C%EB%B0%94%EC%9D%B4%EC%A0%80/%EB%B3%80%ED%99%94%EC%9C%A8%20%EA%B8%B0%EC%A4%80%20%EB%8B%A8%EC%88%9C%20%EB%A7%A4%EB%A7%A4%20%EC%8B%9C%EA%B7%B8%EB%84%90.ipynb\" target=\"_parent\"><img src=\"https://colab.research.google.com/assets/colab-badge.svg\" alt=\"Open In Colab\"/></a>"
      ]
    },
    {
      "cell_type": "code",
      "source": [
        "import warnings\n",
        "import matplotlib\n",
        "import sys\n",
        "import numpy as np\n",
        "import os\n",
        "import pandas as pd\n",
        "warnings.filterwarnings(action='ignore')\n",
        "if 'google.colab' in sys.modules:\n",
        "    !echo 'debconf debconf/frontend select Noninteractive' | debconf-set-selections\n",
        "    # 나눔 폰트를 설치\n",
        "    !sudo apt-get -qq -y install fonts-nanum\n",
        "    import matplotlib.font_manager as fm\n",
        "    font_files = fm.findSystemFonts(fontpaths=['/usr/share/fonts/truetype/nanum'])\n",
        "    for fpath in font_files:\n",
        "        fm.fontManager.addfont(fpath)\n",
        "matplotlib.rcParams['font.family'] = 'NanumGothic'\n",
        "matplotlib.rcParams['axes.unicode_minus'] = False"
      ],
      "metadata": {
        "id": "Wm5OL9urjft7"
      },
      "execution_count": null,
      "outputs": []
    },
    {
      "cell_type": "code",
      "execution_count": null,
      "metadata": {
        "colab": {
          "base_uri": "https://localhost:8080/"
        },
        "id": "P585OsTz76mY",
        "outputId": "66c3f2cc-c57d-4ed2-8baf-d8047f0b2baa"
      },
      "outputs": [
        {
          "output_type": "stream",
          "name": "stdout",
          "text": [
            "Selecting previously unselected package fonts-nanum.\n",
            "(Reading database ... 126213 files and directories currently installed.)\n",
            "Preparing to unpack .../fonts-nanum_20200506-1_all.deb ...\n",
            "Unpacking fonts-nanum (20200506-1) ...\n",
            "Setting up fonts-nanum (20200506-1) ...\n",
            "Processing triggers for fontconfig (2.13.1-4.2ubuntu5) ...\n",
            "               종가        변화율  신호\n",
            "날짜                              \n",
            "2015-01-07  597.0        NaN  보유\n",
            "2015-01-09  594.0  -0.502513  보유\n",
            "2015-01-30  550.0  -7.407407  매도\n",
            "2015-02-02  550.0   0.000000  보유\n",
            "2015-03-30  475.0 -13.636364  매도\n",
            "...           ...        ...  ..\n",
            "2025-04-01  895.0   0.561798  보유\n",
            "2025-04-02  915.0   2.234637  매수\n",
            "2025-04-03  913.0  -0.218579  보유\n",
            "2025-04-04  932.0   2.081051  매수\n",
            "2025-04-07  930.0  -0.214592  보유\n",
            "\n",
            "[1679 rows x 3 columns]\n"
          ]
        }
      ],
      "source": [
        "# gpt _ 간단한 로드어드바이저 코드 작성\n",
        "df = pd.read_csv('미국 철강 코일 선물 과거 데이터.csv', parse_dates=['날짜'], index_col=\"날짜\", thousands=\",\")\n",
        "df['거래량'] = df['거래량'].apply(lambda x: float(x.replace('K', '')) * 1000 if isinstance(x, str) and 'K' in x else float(x))\n",
        "df['변동 %'] = df['변동 %'].apply(lambda x: float(x.replace('%', '')) / 100 if isinstance(x, str) else x)\n",
        "df = df.sort_index()\n",
        "df.dropna(inplace=True)\n",
        "\n",
        "# 전일 종가와 비교하여 상승/하락 여부 판단\n",
        "def trading_signal(df, threshold=1.0):\n",
        "    df['변화율'] = df['종가'].pct_change() * 100  # 종가 변화율 계산\n",
        "    df['신호'] = df['변화율'].apply(lambda x: '매수' if x >= threshold else ('매도' if x <= -threshold else '보유'))\n",
        "    return df[['종가', '변화율', '신호']]\n",
        "\n",
        "# 로드 어드바이저 실행\n",
        "signal_df = trading_signal(df)\n",
        "\n",
        "# 결과 출력\n",
        "print(signal_df)\n"
      ]
    },
    {
      "cell_type": "code",
      "source": [
        "df['신호'].hist()"
      ],
      "metadata": {
        "colab": {
          "base_uri": "https://localhost:8080/",
          "height": 447
        },
        "id": "EfR8DYdu78U3",
        "outputId": "c18dfc45-efe2-41bf-d4aa-45130907c242"
      },
      "execution_count": null,
      "outputs": [
        {
          "output_type": "execute_result",
          "data": {
            "text/plain": [
              "<Axes: >"
            ]
          },
          "metadata": {},
          "execution_count": 2
        },
        {
          "output_type": "display_data",
          "data": {
            "text/plain": [
              "<Figure size 640x480 with 1 Axes>"
            ],
            "image/png": "[encoded data removed]"
          },
          "metadata": {}
        }
      ]
    }
  ]
}
